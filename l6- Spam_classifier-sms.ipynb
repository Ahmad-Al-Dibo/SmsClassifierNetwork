{
 "cells": [
  {
   "cell_type": "markdown",
   "id": "47dbe638",
   "metadata": {},
   "source": [
    "### Spam Classifier: SMS\n",
    "\n",
    "### Gegbruikte Networks:\n",
    "- RNN - LSTM(Long short term memory.)\n"
   ]
  },
  {
   "cell_type": "markdown",
   "id": "53c0c8fd",
   "metadata": {},
   "source": [
    "#### Load Libraries:"
   ]
  },
  {
   "cell_type": "code",
   "execution_count": 269,
   "id": "93bd3321",
   "metadata": {},
   "outputs": [],
   "source": [
    "#%pip install tensorflow\n",
    "\n",
    "import numpy as np\n",
    "from tensorflow.keras.preprocessing.text import Tokenizer\n",
    "from tensorflow.keras.preprocessing.sequence import pad_sequences\n",
    "from tensorflow.keras.models import load_model\n",
    "from tensorflow.keras.utils import to_categorical\n",
    "from sklearn.model_selection import train_test_split\n",
    "import tqdm\n",
    "\n",
    "\n",
    "from tensorflow.keras import Input\n",
    "from tensorflow.keras.models import Sequential\n",
    "from tensorflow.keras.layers import Embedding, LSTM, Dropout, Dense\n",
    "import matplotlib.pyplot as plt\n",
    " "
   ]
  },
  {
   "cell_type": "code",
   "execution_count": 190,
   "id": "1a0a132c",
   "metadata": {},
   "outputs": [],
   "source": [
    "# Variables\n",
    "sen_length = 100"
   ]
  },
  {
   "cell_type": "markdown",
   "id": "7963e9ff",
   "metadata": {},
   "source": [
    "#### Load Data:"
   ]
  },
  {
   "cell_type": "code",
   "execution_count": 191,
   "id": "bb21ac89",
   "metadata": {},
   "outputs": [],
   "source": [
    "def load_data(path):\n",
    "    text, label = [], []\n",
    "    with open(path) as file:\n",
    "        for line in file.readlines():\n",
    "            tokens = line.split()\n",
    "            label.append(tokens[0])\n",
    "            text.append(' '.join(tokens[1:]))\n",
    "    return  [text, label]\n"
   ]
  },
  {
   "cell_type": "code",
   "execution_count": 192,
   "id": "4275e2ee",
   "metadata": {},
   "outputs": [],
   "source": [
    "X, Y = load_data(\"D:\\\\AhmadAlDiboMap\\\\2025\\\\Python\\\\Curses\\\\tenserflow\\\\Data\\\\ham-spam\\\\data\") # X = text, Y = label\n",
    "\n",
    "word2int = {\"ham\": 0, \"spam\": 1}\n",
    "int2word = {0: \"ham\", 1: \"spam\"}"
   ]
  },
  {
   "cell_type": "code",
   "execution_count": null,
   "id": "9e6d606e",
   "metadata": {},
   "outputs": [],
   "source": [
    "tokenizer = Tokenizer()\n",
    "tokenizer.fit_on_texts(X)\n",
    "X_Digit=tokenizer.texts_to_sequences(X)\n",
    "X_Digit = np.array(X_Digit, dtype=object)\n",
    "Y = np.array(Y)\n",
    "X_Digit = pad_sequences(X_Digit, maxlen = sen_length) # padding='post' geef gaan om het worden met nummbers boven gaan.\n",
    "\n",
    "# Y = [word2int[y] for y in Y] # hash it after using!\n",
    "# Y= to_categorical(Y)"
   ]
  },
  {
   "cell_type": "code",
   "execution_count": null,
   "id": "0317a885",
   "metadata": {},
   "outputs": [],
   "source": []
  },
  {
   "cell_type": "markdown",
   "id": "10464284",
   "metadata": {},
   "source": [
    "#### split and shuffle:"
   ]
  },
  {
   "cell_type": "code",
   "execution_count": 197,
   "id": "da488f88",
   "metadata": {},
   "outputs": [
    {
     "name": "stdout",
     "output_type": "stream",
     "text": [
      "Xtrain:  (4180, 100)\n",
      "Xtest:  (1394, 100)\n",
      "Ytrain:  (4180, 2)\n",
      "Ytest:  (1394, 2)\n"
     ]
    }
   ],
   "source": [
    "Xtrain, Xtest, Ytrain, Ytest = train_test_split(X_Digit, Y, test_size=0.25, random_state=7)\n",
    "\n",
    "print(\"Xtrain: \", Xtrain.shape)\n",
    "print(\"Xtest: \", Xtest.shape)\n",
    "print(\"Ytrain: \", Ytrain.shape)\n",
    "print(\"Ytest: \", Ytest.shape)"
   ]
  },
  {
   "cell_type": "markdown",
   "id": "74f39977",
   "metadata": {},
   "source": [
    "#### Generate Embedding:"
   ]
  },
  {
   "cell_type": "code",
   "execution_count": 210,
   "id": "3641b27e",
   "metadata": {},
   "outputs": [],
   "source": [
    "def gemerate_Embedding(tokenizer, dim):\n",
    "    embedding={}\n",
    "    with open(f\"D:\\\\AhmadAlDiboMap\\\\2025\\\\Python\\\\Curses\\\\tenserflow\\\\Data\\\\glove.6B\\\\glove.6B.{dim}d.txt\", encoding=\"utf-8\") as file:\n",
    "        for line in tqdm.tqdm(file, \"Reading the GloVe file\"):\n",
    "            tokens = line.split()\n",
    "            word = tokens[0]\n",
    "            vector = np.array(tokens[1:], dtype=\"float32\")\n",
    "            embedding[word] = vector\n",
    "    \n",
    "    wordI = tokenizer.word_index\n",
    "    embedding_matrix = np.zeros((len(wordI)+1, dim))\n",
    "\n",
    "    for word, index in wordI.items():\n",
    "        vector = embedding.get(word)\n",
    "        if vector is not None:\n",
    "            embedding_matrix[index] = vector\n",
    "    \n",
    "    return embedding_matrix"
   ]
  },
  {
   "cell_type": "code",
   "execution_count": 221,
   "id": "034d8bca",
   "metadata": {},
   "outputs": [
    {
     "name": "stderr",
     "output_type": "stream",
     "text": [
      "Reading the GloVe file: 400000it [00:13, 30216.79it/s]\n"
     ]
    }
   ],
   "source": [
    "embedding_matrix = gemerate_Embedding(tokenizer, 100)"
   ]
  },
  {
   "cell_type": "code",
   "execution_count": 230,
   "id": "3b10dbaa",
   "metadata": {},
   "outputs": [
    {
     "data": {
      "text/plain": [
       "array([-0.23769   ,  0.59391999,  0.58696997, -0.041788  , -0.86803001,\n",
       "       -0.0051122 , -0.44929999, -0.027985  ,  0.065674  , -0.37900999,\n",
       "        0.31174999,  0.20528001,  0.43099999, -0.30913001, -0.084523  ,\n",
       "        0.056902  ,  0.34704   ,  0.32332   , -0.60413003,  0.23123001,\n",
       "       -0.095476  , -0.50009   ,  0.024528  , -0.5819    ,  0.0075945 ,\n",
       "       -0.13871001, -0.26416999, -0.7827    , -0.24023999,  0.081827  ,\n",
       "       -0.1867    ,  0.95403999, -0.057412  ,  0.0089747 , -0.20491999,\n",
       "        0.060902  , -0.018265  ,  0.33489999,  0.23729999, -0.17605001,\n",
       "       -0.54013002, -0.32745001, -0.088963  , -0.38417   , -1.09029996,\n",
       "        0.17027999, -0.019269  , -0.35687   , -0.0084772 , -0.81524998,\n",
       "        0.23428001,  0.11118   ,  0.42355999,  1.11099994, -0.35534999,\n",
       "       -2.38890004,  0.62029999, -0.16351999,  1.44500005,  0.58332998,\n",
       "       -0.22946   ,  1.4375    , -0.063997  , -0.31511   ,  1.08749998,\n",
       "        0.39221001,  0.73146999,  0.57235998, -0.050781  , -0.027736  ,\n",
       "        0.41084999, -0.25075999, -0.26330999, -0.38681999,  0.50667   ,\n",
       "       -0.178     ,  0.018334  , -0.64042002, -0.83078003,  0.26166999,\n",
       "        0.7191    ,  0.1505    , -0.67532003, -0.1487    , -2.12660003,\n",
       "       -0.58561999, -0.12433   , -0.32622001, -1.00880003, -0.65505999,\n",
       "        0.12711   ,  0.227     , -0.26423001, -0.44033   , -0.45517999,\n",
       "       -0.28702   , -0.48124999, -0.58301997,  0.20035   ,  0.50308001])"
      ]
     },
     "execution_count": 230,
     "metadata": {},
     "output_type": "execute_result"
    }
   ],
   "source": [
    "embedding_matrix[tokenizer.word_index[\"how\"]]"
   ]
  },
  {
   "cell_type": "markdown",
   "id": "09bede5f",
   "metadata": {},
   "source": [
    "#### Build LSTM model:"
   ]
  },
  {
   "cell_type": "code",
   "execution_count": null,
   "id": "6974885d",
   "metadata": {},
   "outputs": [],
   "source": [
    "\n",
    "def build_model(embedding_matrix, lstm_units, sen_length):\n",
    "    model = Sequential()\n",
    "    model.add(Input(shape=(sen_length,)))  # 👈 Explicit input shape\n",
    "    model.add(Embedding(input_dim=embedding_matrix.shape[0], \n",
    "                        output_dim=embedding_matrix.shape[1], \n",
    "                        weights=[embedding_matrix], \n",
    "                        trainable=False))\n",
    "    model.add(LSTM(lstm_units, recurrent_dropout=0.2))\n",
    "    model.add(Dropout(0.3))\n",
    "    model.add(Dense(2, activation=\"softmax\"))\n",
    "    model.compile(optimizer=\"rmsprop\", loss=\"categorical_crossentropy\", metrics=['accuracy'])\n",
    "    model.summary()\n",
    "    return model\n"
   ]
  },
  {
   "cell_type": "code",
   "execution_count": 250,
   "id": "f35e1d9f",
   "metadata": {},
   "outputs": [
    {
     "data": {
      "text/html": [
       "<pre style=\"white-space:pre;overflow-x:auto;line-height:normal;font-family:Menlo,'DejaVu Sans Mono',consolas,'Courier New',monospace\"><span style=\"font-weight: bold\">Model: \"sequential_6\"</span>\n",
       "</pre>\n"
      ],
      "text/plain": [
       "\u001b[1mModel: \"sequential_6\"\u001b[0m\n"
      ]
     },
     "metadata": {},
     "output_type": "display_data"
    },
    {
     "data": {
      "text/html": [
       "<pre style=\"white-space:pre;overflow-x:auto;line-height:normal;font-family:Menlo,'DejaVu Sans Mono',consolas,'Courier New',monospace\">┏━━━━━━━━━━━━━━━━━━━━━━━━━━━━━━━━━┳━━━━━━━━━━━━━━━━━━━━━━━━┳━━━━━━━━━━━━━━━┓\n",
       "┃<span style=\"font-weight: bold\"> Layer (type)                    </span>┃<span style=\"font-weight: bold\"> Output Shape           </span>┃<span style=\"font-weight: bold\">       Param # </span>┃\n",
       "┡━━━━━━━━━━━━━━━━━━━━━━━━━━━━━━━━━╇━━━━━━━━━━━━━━━━━━━━━━━━╇━━━━━━━━━━━━━━━┩\n",
       "│ embedding_6 (<span style=\"color: #0087ff; text-decoration-color: #0087ff\">Embedding</span>)         │ (<span style=\"color: #00d7ff; text-decoration-color: #00d7ff\">None</span>, <span style=\"color: #00af00; text-decoration-color: #00af00\">100</span>, <span style=\"color: #00af00; text-decoration-color: #00af00\">100</span>)       │       <span style=\"color: #00af00; text-decoration-color: #00af00\">901,300</span> │\n",
       "├─────────────────────────────────┼────────────────────────┼───────────────┤\n",
       "│ lstm_6 (<span style=\"color: #0087ff; text-decoration-color: #0087ff\">LSTM</span>)                   │ (<span style=\"color: #00d7ff; text-decoration-color: #00d7ff\">None</span>, <span style=\"color: #00af00; text-decoration-color: #00af00\">128</span>)            │       <span style=\"color: #00af00; text-decoration-color: #00af00\">117,248</span> │\n",
       "├─────────────────────────────────┼────────────────────────┼───────────────┤\n",
       "│ dropout_6 (<span style=\"color: #0087ff; text-decoration-color: #0087ff\">Dropout</span>)             │ (<span style=\"color: #00d7ff; text-decoration-color: #00d7ff\">None</span>, <span style=\"color: #00af00; text-decoration-color: #00af00\">128</span>)            │             <span style=\"color: #00af00; text-decoration-color: #00af00\">0</span> │\n",
       "├─────────────────────────────────┼────────────────────────┼───────────────┤\n",
       "│ dense_6 (<span style=\"color: #0087ff; text-decoration-color: #0087ff\">Dense</span>)                 │ (<span style=\"color: #00d7ff; text-decoration-color: #00d7ff\">None</span>, <span style=\"color: #00af00; text-decoration-color: #00af00\">2</span>)              │           <span style=\"color: #00af00; text-decoration-color: #00af00\">258</span> │\n",
       "└─────────────────────────────────┴────────────────────────┴───────────────┘\n",
       "</pre>\n"
      ],
      "text/plain": [
       "┏━━━━━━━━━━━━━━━━━━━━━━━━━━━━━━━━━┳━━━━━━━━━━━━━━━━━━━━━━━━┳━━━━━━━━━━━━━━━┓\n",
       "┃\u001b[1m \u001b[0m\u001b[1mLayer (type)                   \u001b[0m\u001b[1m \u001b[0m┃\u001b[1m \u001b[0m\u001b[1mOutput Shape          \u001b[0m\u001b[1m \u001b[0m┃\u001b[1m \u001b[0m\u001b[1m      Param #\u001b[0m\u001b[1m \u001b[0m┃\n",
       "┡━━━━━━━━━━━━━━━━━━━━━━━━━━━━━━━━━╇━━━━━━━━━━━━━━━━━━━━━━━━╇━━━━━━━━━━━━━━━┩\n",
       "│ embedding_6 (\u001b[38;5;33mEmbedding\u001b[0m)         │ (\u001b[38;5;45mNone\u001b[0m, \u001b[38;5;34m100\u001b[0m, \u001b[38;5;34m100\u001b[0m)       │       \u001b[38;5;34m901,300\u001b[0m │\n",
       "├─────────────────────────────────┼────────────────────────┼───────────────┤\n",
       "│ lstm_6 (\u001b[38;5;33mLSTM\u001b[0m)                   │ (\u001b[38;5;45mNone\u001b[0m, \u001b[38;5;34m128\u001b[0m)            │       \u001b[38;5;34m117,248\u001b[0m │\n",
       "├─────────────────────────────────┼────────────────────────┼───────────────┤\n",
       "│ dropout_6 (\u001b[38;5;33mDropout\u001b[0m)             │ (\u001b[38;5;45mNone\u001b[0m, \u001b[38;5;34m128\u001b[0m)            │             \u001b[38;5;34m0\u001b[0m │\n",
       "├─────────────────────────────────┼────────────────────────┼───────────────┤\n",
       "│ dense_6 (\u001b[38;5;33mDense\u001b[0m)                 │ (\u001b[38;5;45mNone\u001b[0m, \u001b[38;5;34m2\u001b[0m)              │           \u001b[38;5;34m258\u001b[0m │\n",
       "└─────────────────────────────────┴────────────────────────┴───────────────┘\n"
      ]
     },
     "metadata": {},
     "output_type": "display_data"
    },
    {
     "data": {
      "text/html": [
       "<pre style=\"white-space:pre;overflow-x:auto;line-height:normal;font-family:Menlo,'DejaVu Sans Mono',consolas,'Courier New',monospace\"><span style=\"font-weight: bold\"> Total params: </span><span style=\"color: #00af00; text-decoration-color: #00af00\">1,018,806</span> (3.89 MB)\n",
       "</pre>\n"
      ],
      "text/plain": [
       "\u001b[1m Total params: \u001b[0m\u001b[38;5;34m1,018,806\u001b[0m (3.89 MB)\n"
      ]
     },
     "metadata": {},
     "output_type": "display_data"
    },
    {
     "data": {
      "text/html": [
       "<pre style=\"white-space:pre;overflow-x:auto;line-height:normal;font-family:Menlo,'DejaVu Sans Mono',consolas,'Courier New',monospace\"><span style=\"font-weight: bold\"> Trainable params: </span><span style=\"color: #00af00; text-decoration-color: #00af00\">117,506</span> (459.01 KB)\n",
       "</pre>\n"
      ],
      "text/plain": [
       "\u001b[1m Trainable params: \u001b[0m\u001b[38;5;34m117,506\u001b[0m (459.01 KB)\n"
      ]
     },
     "metadata": {},
     "output_type": "display_data"
    },
    {
     "data": {
      "text/html": [
       "<pre style=\"white-space:pre;overflow-x:auto;line-height:normal;font-family:Menlo,'DejaVu Sans Mono',consolas,'Courier New',monospace\"><span style=\"font-weight: bold\"> Non-trainable params: </span><span style=\"color: #00af00; text-decoration-color: #00af00\">901,300</span> (3.44 MB)\n",
       "</pre>\n"
      ],
      "text/plain": [
       "\u001b[1m Non-trainable params: \u001b[0m\u001b[38;5;34m901,300\u001b[0m (3.44 MB)\n"
      ]
     },
     "metadata": {},
     "output_type": "display_data"
    }
   ],
   "source": [
    "model = build_model(embedding_matrix, 128, 100)"
   ]
  },
  {
   "cell_type": "markdown",
   "id": "c20278df",
   "metadata": {},
   "source": [
    "#### Train the model:"
   ]
  },
  {
   "cell_type": "code",
   "execution_count": 251,
   "id": "be7633f6",
   "metadata": {},
   "outputs": [
    {
     "name": "stdout",
     "output_type": "stream",
     "text": [
      "Epoch 1/10\n",
      "\u001b[1m66/66\u001b[0m \u001b[32m━━━━━━━━━━━━━━━━━━━━\u001b[0m\u001b[37m\u001b[0m \u001b[1m40s\u001b[0m 353ms/step - accuracy: 0.9344 - loss: 0.1744 - val_accuracy: 0.9648 - val_loss: 0.1028\n",
      "Epoch 2/10\n",
      "\u001b[1m66/66\u001b[0m \u001b[32m━━━━━━━━━━━━━━━━━━━━\u001b[0m\u001b[37m\u001b[0m \u001b[1m10s\u001b[0m 149ms/step - accuracy: 0.9713 - loss: 0.0895 - val_accuracy: 0.9720 - val_loss: 0.0878\n",
      "Epoch 3/10\n",
      "\u001b[1m66/66\u001b[0m \u001b[32m━━━━━━━━━━━━━━━━━━━━\u001b[0m\u001b[37m\u001b[0m \u001b[1m10s\u001b[0m 153ms/step - accuracy: 0.9770 - loss: 0.0742 - val_accuracy: 0.9562 - val_loss: 0.1301\n",
      "Epoch 4/10\n",
      "\u001b[1m66/66\u001b[0m \u001b[32m━━━━━━━━━━━━━━━━━━━━\u001b[0m\u001b[37m\u001b[0m \u001b[1m10s\u001b[0m 150ms/step - accuracy: 0.9782 - loss: 0.0638 - val_accuracy: 0.9756 - val_loss: 0.0721\n",
      "Epoch 5/10\n",
      "\u001b[1m66/66\u001b[0m \u001b[32m━━━━━━━━━━━━━━━━━━━━\u001b[0m\u001b[37m\u001b[0m \u001b[1m10s\u001b[0m 149ms/step - accuracy: 0.9821 - loss: 0.0575 - val_accuracy: 0.9742 - val_loss: 0.0768\n",
      "Epoch 6/10\n",
      "\u001b[1m66/66\u001b[0m \u001b[32m━━━━━━━━━━━━━━━━━━━━\u001b[0m\u001b[37m\u001b[0m \u001b[1m11s\u001b[0m 166ms/step - accuracy: 0.9856 - loss: 0.0506 - val_accuracy: 0.9756 - val_loss: 0.0752\n",
      "Epoch 7/10\n",
      "\u001b[1m66/66\u001b[0m \u001b[32m━━━━━━━━━━━━━━━━━━━━\u001b[0m\u001b[37m\u001b[0m \u001b[1m10s\u001b[0m 150ms/step - accuracy: 0.9842 - loss: 0.0465 - val_accuracy: 0.9785 - val_loss: 0.0653\n",
      "Epoch 8/10\n",
      "\u001b[1m66/66\u001b[0m \u001b[32m━━━━━━━━━━━━━━━━━━━━\u001b[0m\u001b[37m\u001b[0m \u001b[1m10s\u001b[0m 150ms/step - accuracy: 0.9866 - loss: 0.0411 - val_accuracy: 0.9670 - val_loss: 0.0916\n",
      "Epoch 9/10\n",
      "\u001b[1m66/66\u001b[0m \u001b[32m━━━━━━━━━━━━━━━━━━━━\u001b[0m\u001b[37m\u001b[0m \u001b[1m11s\u001b[0m 159ms/step - accuracy: 0.9878 - loss: 0.0378 - val_accuracy: 0.9770 - val_loss: 0.0657\n",
      "Epoch 10/10\n",
      "\u001b[1m66/66\u001b[0m \u001b[32m━━━━━━━━━━━━━━━━━━━━\u001b[0m\u001b[37m\u001b[0m \u001b[1m12s\u001b[0m 173ms/step - accuracy: 0.9909 - loss: 0.0342 - val_accuracy: 0.9648 - val_loss: 0.1061\n"
     ]
    }
   ],
   "source": [
    "history = model.fit(Xtrain, Ytrain, validation_data=(Xtest, Ytest), batch_size=64, epochs=10, verbose=1)"
   ]
  },
  {
   "cell_type": "code",
   "execution_count": 272,
   "id": "766f3bdb",
   "metadata": {},
   "outputs": [],
   "source": [
    "import json\n",
    "\n",
    "\n",
    "report = history.history\n",
    "report.keys()\n",
    "# model.save(\"lstm_model_1.h5\")\n",
    "# with open(\"training_history.json\", \"w\") as f:\n",
    "#     json.dump(history.history, f)\n",
    "\n",
    "import pickle\n",
    "with open('tokenizer.pkl', 'wb') as handle:\n",
    "    pickle.dump(tokenizer, handle, protocol=pickle.HIGHEST_PROTOCOL)"
   ]
  },
  {
   "cell_type": "code",
   "execution_count": 261,
   "id": "d19c2e15",
   "metadata": {},
   "outputs": [
    {
     "data": {
      "text/plain": [
       "<matplotlib.legend.Legend at 0x206c95d0f90>"
      ]
     },
     "execution_count": 261,
     "metadata": {},
     "output_type": "execute_result"
    },
    {
     "data": {
      "image/png": "[encoded data removed]",
      "text/plain": [
       "<Figure size 640x480 with 1 Axes>"
      ]
     },
     "metadata": {},
     "output_type": "display_data"
    }
   ],
   "source": [
    "acc = report['accuracy']\n",
    "val_acc = report[\"val_accuracy\"]\n",
    "\n",
    "epochs = range(1, 11)\n",
    "\n",
    "plt.plot(epochs, acc, \"r\", label=\"Training Acc\")\n",
    "plt.plot(epochs, val_acc, 'b', label=\"Validation Acc\")\n",
    "plt.title(\"Traning & Validation Accuracy\")\n",
    "plt.xlabel(\"Epochs\")\n",
    "plt.ylabel(\"Accuracy\")\n",
    "plt.legend()"
   ]
  },
  {
   "cell_type": "code",
   "execution_count": 262,
   "id": "ac66621e",
   "metadata": {},
   "outputs": [
    {
     "data": {
      "text/plain": [
       "<matplotlib.legend.Legend at 0x206853df3d0>"
      ]
     },
     "execution_count": 262,
     "metadata": {},
     "output_type": "execute_result"
    },
    {
     "data": {
      "image/png": "[encoded data removed]",
      "text/plain": [
       "<Figure size 640x480 with 1 Axes>"
      ]
     },
     "metadata": {},
     "output_type": "display_data"
    }
   ],
   "source": [
    "loss = report['loss']\n",
    "val_loss = report[\"val_loss\"]\n",
    "\n",
    "epochs = range(1, 11)\n",
    "\n",
    "plt.plot(epochs, loss, \"r\", label=\"Training Loss\")\n",
    "plt.plot(epochs, val_loss, 'b', label=\"Validation Loss\")\n",
    "plt.title(\"Traning & Validation Losses\")\n",
    "plt.xlabel(\"Epochs\")\n",
    "plt.ylabel(\"Loss\")\n",
    "plt.legend()"
   ]
  },
  {
   "cell_type": "code",
   "execution_count": 265,
   "id": "6e9ffb73",
   "metadata": {},
   "outputs": [
    {
     "name": "stdout",
     "output_type": "stream",
     "text": [
      "\u001b[1m44/44\u001b[0m \u001b[32m━━━━━━━━━━━━━━━━━━━━\u001b[0m\u001b[37m\u001b[0m \u001b[1m1s\u001b[0m 28ms/step - accuracy: 0.9648 - loss: 0.1061\n",
      "* Accuracy : 96.48%\n"
     ]
    }
   ],
   "source": [
    "# Results:\n",
    "\n",
    "result = model.evaluate(Xtest, Ytest)\n",
    "\n",
    "print(f\"* Accuracy : {result[1] * 100:.2f}%\")"
   ]
  },
  {
   "cell_type": "markdown",
   "id": "851bc7cd",
   "metadata": {},
   "source": []
  },
  {
   "cell_type": "markdown",
   "id": "24ddd059",
   "metadata": {},
   "source": [
    "#### Testing"
   ]
  },
  {
   "cell_type": "code",
   "execution_count": null,
   "id": "7a7bf4fb",
   "metadata": {},
   "outputs": [],
   "source": [
    "def prediction(model, sms):\n",
    "    seq= tokenizer.texts_to_sequences([sms])\n",
    "    seq= pad_sequences(seq, maxlen=sen_length)\n",
    "\n",
    "    predict = model.predict(seq)[0]\n",
    "    return int2word[np.argmax(predict)]\n"
   ]
  },
  {
   "cell_type": "code",
   "execution_count": null,
   "id": "895446dd",
   "metadata": {},
   "outputs": [
    {
     "name": "stderr",
     "output_type": "stream",
     "text": [
      "WARNING:absl:Compiled the loaded model, but the compiled metrics have yet to be built. `model.compile_metrics` will be empty until you train or evaluate the model.\n"
     ]
    },
    {
     "name": "stdout",
     "output_type": "stream",
     "text": [
      "\u001b[1m1/1\u001b[0m \u001b[32m━━━━━━━━━━━━━━━━━━━━\u001b[0m\u001b[37m\u001b[0m \u001b[1m0s\u001b[0m 447ms/step\n"
     ]
    },
    {
     "data": {
      "text/html": [
       "<pre style=\"white-space:pre;overflow-x:auto;line-height:normal;font-family:Menlo,'DejaVu Sans Mono',consolas,'Courier New',monospace\"><span style=\"font-weight: bold\">Model: \"sequential_6\"</span>\n",
       "</pre>\n"
      ],
      "text/plain": [
       "\u001b[1mModel: \"sequential_6\"\u001b[0m\n"
      ]
     },
     "metadata": {},
     "output_type": "display_data"
    },
    {
     "data": {
      "text/html": [
       "<pre style=\"white-space:pre;overflow-x:auto;line-height:normal;font-family:Menlo,'DejaVu Sans Mono',consolas,'Courier New',monospace\">┏━━━━━━━━━━━━━━━━━━━━━━━━━━━━━━━━━┳━━━━━━━━━━━━━━━━━━━━━━━━┳━━━━━━━━━━━━━━━┓\n",
       "┃<span style=\"font-weight: bold\"> Layer (type)                    </span>┃<span style=\"font-weight: bold\"> Output Shape           </span>┃<span style=\"font-weight: bold\">       Param # </span>┃\n",
       "┡━━━━━━━━━━━━━━━━━━━━━━━━━━━━━━━━━╇━━━━━━━━━━━━━━━━━━━━━━━━╇━━━━━━━━━━━━━━━┩\n",
       "│ embedding_6 (<span style=\"color: #0087ff; text-decoration-color: #0087ff\">Embedding</span>)         │ (<span style=\"color: #00d7ff; text-decoration-color: #00d7ff\">None</span>, <span style=\"color: #00af00; text-decoration-color: #00af00\">100</span>, <span style=\"color: #00af00; text-decoration-color: #00af00\">100</span>)       │       <span style=\"color: #00af00; text-decoration-color: #00af00\">901,300</span> │\n",
       "├─────────────────────────────────┼────────────────────────┼───────────────┤\n",
       "│ lstm_6 (<span style=\"color: #0087ff; text-decoration-color: #0087ff\">LSTM</span>)                   │ (<span style=\"color: #00d7ff; text-decoration-color: #00d7ff\">None</span>, <span style=\"color: #00af00; text-decoration-color: #00af00\">128</span>)            │       <span style=\"color: #00af00; text-decoration-color: #00af00\">117,248</span> │\n",
       "├─────────────────────────────────┼────────────────────────┼───────────────┤\n",
       "│ dropout_6 (<span style=\"color: #0087ff; text-decoration-color: #0087ff\">Dropout</span>)             │ (<span style=\"color: #00d7ff; text-decoration-color: #00d7ff\">None</span>, <span style=\"color: #00af00; text-decoration-color: #00af00\">128</span>)            │             <span style=\"color: #00af00; text-decoration-color: #00af00\">0</span> │\n",
       "├─────────────────────────────────┼────────────────────────┼───────────────┤\n",
       "│ dense_6 (<span style=\"color: #0087ff; text-decoration-color: #0087ff\">Dense</span>)                 │ (<span style=\"color: #00d7ff; text-decoration-color: #00d7ff\">None</span>, <span style=\"color: #00af00; text-decoration-color: #00af00\">2</span>)              │           <span style=\"color: #00af00; text-decoration-color: #00af00\">258</span> │\n",
       "└─────────────────────────────────┴────────────────────────┴───────────────┘\n",
       "</pre>\n"
      ],
      "text/plain": [
       "┏━━━━━━━━━━━━━━━━━━━━━━━━━━━━━━━━━┳━━━━━━━━━━━━━━━━━━━━━━━━┳━━━━━━━━━━━━━━━┓\n",
       "┃\u001b[1m \u001b[0m\u001b[1mLayer (type)                   \u001b[0m\u001b[1m \u001b[0m┃\u001b[1m \u001b[0m\u001b[1mOutput Shape          \u001b[0m\u001b[1m \u001b[0m┃\u001b[1m \u001b[0m\u001b[1m      Param #\u001b[0m\u001b[1m \u001b[0m┃\n",
       "┡━━━━━━━━━━━━━━━━━━━━━━━━━━━━━━━━━╇━━━━━━━━━━━━━━━━━━━━━━━━╇━━━━━━━━━━━━━━━┩\n",
       "│ embedding_6 (\u001b[38;5;33mEmbedding\u001b[0m)         │ (\u001b[38;5;45mNone\u001b[0m, \u001b[38;5;34m100\u001b[0m, \u001b[38;5;34m100\u001b[0m)       │       \u001b[38;5;34m901,300\u001b[0m │\n",
       "├─────────────────────────────────┼────────────────────────┼───────────────┤\n",
       "│ lstm_6 (\u001b[38;5;33mLSTM\u001b[0m)                   │ (\u001b[38;5;45mNone\u001b[0m, \u001b[38;5;34m128\u001b[0m)            │       \u001b[38;5;34m117,248\u001b[0m │\n",
       "├─────────────────────────────────┼────────────────────────┼───────────────┤\n",
       "│ dropout_6 (\u001b[38;5;33mDropout\u001b[0m)             │ (\u001b[38;5;45mNone\u001b[0m, \u001b[38;5;34m128\u001b[0m)            │             \u001b[38;5;34m0\u001b[0m │\n",
       "├─────────────────────────────────┼────────────────────────┼───────────────┤\n",
       "│ dense_6 (\u001b[38;5;33mDense\u001b[0m)                 │ (\u001b[38;5;45mNone\u001b[0m, \u001b[38;5;34m2\u001b[0m)              │           \u001b[38;5;34m258\u001b[0m │\n",
       "└─────────────────────────────────┴────────────────────────┴───────────────┘\n"
      ]
     },
     "metadata": {},
     "output_type": "display_data"
    },
    {
     "data": {
      "text/html": [
       "<pre style=\"white-space:pre;overflow-x:auto;line-height:normal;font-family:Menlo,'DejaVu Sans Mono',consolas,'Courier New',monospace\"><span style=\"font-weight: bold\"> Total params: </span><span style=\"color: #00af00; text-decoration-color: #00af00\">1,018,808</span> (3.89 MB)\n",
       "</pre>\n"
      ],
      "text/plain": [
       "\u001b[1m Total params: \u001b[0m\u001b[38;5;34m1,018,808\u001b[0m (3.89 MB)\n"
      ]
     },
     "metadata": {},
     "output_type": "display_data"
    },
    {
     "data": {
      "text/html": [
       "<pre style=\"white-space:pre;overflow-x:auto;line-height:normal;font-family:Menlo,'DejaVu Sans Mono',consolas,'Courier New',monospace\"><span style=\"font-weight: bold\"> Trainable params: </span><span style=\"color: #00af00; text-decoration-color: #00af00\">117,506</span> (459.01 KB)\n",
       "</pre>\n"
      ],
      "text/plain": [
       "\u001b[1m Trainable params: \u001b[0m\u001b[38;5;34m117,506\u001b[0m (459.01 KB)\n"
      ]
     },
     "metadata": {},
     "output_type": "display_data"
    },
    {
     "data": {
      "text/html": [
       "<pre style=\"white-space:pre;overflow-x:auto;line-height:normal;font-family:Menlo,'DejaVu Sans Mono',consolas,'Courier New',monospace\"><span style=\"font-weight: bold\"> Non-trainable params: </span><span style=\"color: #00af00; text-decoration-color: #00af00\">901,300</span> (3.44 MB)\n",
       "</pre>\n"
      ],
      "text/plain": [
       "\u001b[1m Non-trainable params: \u001b[0m\u001b[38;5;34m901,300\u001b[0m (3.44 MB)\n"
      ]
     },
     "metadata": {},
     "output_type": "display_data"
    },
    {
     "data": {
      "text/html": [
       "<pre style=\"white-space:pre;overflow-x:auto;line-height:normal;font-family:Menlo,'DejaVu Sans Mono',consolas,'Courier New',monospace\"><span style=\"font-weight: bold\"> Optimizer params: </span><span style=\"color: #00af00; text-decoration-color: #00af00\">2</span> (12.00 B)\n",
       "</pre>\n"
      ],
      "text/plain": [
       "\u001b[1m Optimizer params: \u001b[0m\u001b[38;5;34m2\u001b[0m (12.00 B)\n"
      ]
     },
     "metadata": {},
     "output_type": "display_data"
    }
   ],
   "source": [
    "\n",
    "model = load_model('D:\\\\AhmadAlDiboMap\\\\2025\\\\Python\\\\Curses\\\\tenserflow\\\\code\\\\projects\\\\web_sms_classifier\\\\lstm_model_1.h5')\n",
    "prediction(model, \"Is that seriously how you spell his name?\")\n",
    "model.summary()"
   ]
  },
  {
   "cell_type": "code",
   "execution_count": null,
   "id": "9c6cc829",
   "metadata": {},
   "outputs": [],
   "source": [
    "model.save"
   ]
  }
 ],
 "metadata": {
  "kernelspec": {
   "display_name": ".venv",
   "language": "python",
   "name": "python3"
  },
  "language_info": {
   "codemirror_mode": {
    "name": "ipython",
    "version": 3
   },
   "file_extension": ".py",
   "mimetype": "text/x-python",
   "name": "python",
   "nbconvert_exporter": "python",
   "pygments_lexer": "ipython3",
   "version": "3.11.4"
  }
 },
 "nbformat": 4,
 "nbformat_minor": 5
}
